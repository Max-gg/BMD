{
 "cells": [
  {
   "cell_type": "code",
   "execution_count": 16,
   "metadata": {},
   "outputs": [],
   "source": [
    "import pandas as pd\n",
    "import numpy as np\n",
    "import scipy.stats as sts"
   ]
  },
  {
   "cell_type": "code",
   "execution_count": 14,
   "metadata": {},
   "outputs": [
    {
     "data": {
      "text/html": [
       "<strong><h3>1.Сгенеруйте набір даних, що містить не менше 6 змінних. Частину змінних згенеруйте за нормальний розподілом, частину - за будь-яким іншим розподілом. Кількість спостережень - 20.\n"
      ],
      "text/plain": [
       "<IPython.core.display.HTML object>"
      ]
     },
     "metadata": {},
     "output_type": "display_data"
    }
   ],
   "source": [
    "%%html\n",
    "<strong><h3>1.Сгенеруйте набір даних, що містить не менше 6 змінних. Частину змінних згенеруйте за нормальний розподілом, частину - за будь-яким іншим розподілом. Кількість спостережень - 20."
   ]
  },
  {
   "cell_type": "code",
   "execution_count": 2,
   "metadata": {},
   "outputs": [
    {
     "data": {
      "text/html": [
       "<div>\n",
       "<style scoped>\n",
       "    .dataframe tbody tr th:only-of-type {\n",
       "        vertical-align: middle;\n",
       "    }\n",
       "\n",
       "    .dataframe tbody tr th {\n",
       "        vertical-align: top;\n",
       "    }\n",
       "\n",
       "    .dataframe thead th {\n",
       "        text-align: right;\n",
       "    }\n",
       "</style>\n",
       "<table border=\"1\" class=\"dataframe\">\n",
       "  <thead>\n",
       "    <tr style=\"text-align: right;\">\n",
       "      <th></th>\n",
       "      <th>Norm1</th>\n",
       "      <th>Norm2</th>\n",
       "      <th>Norm3</th>\n",
       "      <th>Poisson</th>\n",
       "      <th>Uniform</th>\n",
       "      <th>Exponential</th>\n",
       "    </tr>\n",
       "  </thead>\n",
       "  <tbody>\n",
       "    <tr>\n",
       "      <th>0</th>\n",
       "      <td>-0.187821</td>\n",
       "      <td>1.809050</td>\n",
       "      <td>6.985847</td>\n",
       "      <td>6</td>\n",
       "      <td>0.724437</td>\n",
       "      <td>2.155066</td>\n",
       "    </tr>\n",
       "    <tr>\n",
       "      <th>1</th>\n",
       "      <td>-2.068431</td>\n",
       "      <td>0.082521</td>\n",
       "      <td>3.895677</td>\n",
       "      <td>6</td>\n",
       "      <td>0.601482</td>\n",
       "      <td>0.305948</td>\n",
       "    </tr>\n",
       "    <tr>\n",
       "      <th>2</th>\n",
       "      <td>1.658335</td>\n",
       "      <td>0.720258</td>\n",
       "      <td>10.515873</td>\n",
       "      <td>3</td>\n",
       "      <td>0.020474</td>\n",
       "      <td>0.974930</td>\n",
       "    </tr>\n",
       "    <tr>\n",
       "      <th>3</th>\n",
       "      <td>-0.760291</td>\n",
       "      <td>-0.141302</td>\n",
       "      <td>6.079766</td>\n",
       "      <td>4</td>\n",
       "      <td>0.339396</td>\n",
       "      <td>0.214014</td>\n",
       "    </tr>\n",
       "    <tr>\n",
       "      <th>4</th>\n",
       "      <td>-0.512898</td>\n",
       "      <td>0.048040</td>\n",
       "      <td>5.934857</td>\n",
       "      <td>2</td>\n",
       "      <td>0.620841</td>\n",
       "      <td>0.660813</td>\n",
       "    </tr>\n",
       "    <tr>\n",
       "      <th>5</th>\n",
       "      <td>0.945261</td>\n",
       "      <td>1.636541</td>\n",
       "      <td>8.327062</td>\n",
       "      <td>2</td>\n",
       "      <td>0.221713</td>\n",
       "      <td>0.360082</td>\n",
       "    </tr>\n",
       "    <tr>\n",
       "      <th>6</th>\n",
       "      <td>1.241770</td>\n",
       "      <td>-0.701698</td>\n",
       "      <td>11.436973</td>\n",
       "      <td>9</td>\n",
       "      <td>0.128555</td>\n",
       "      <td>0.093942</td>\n",
       "    </tr>\n",
       "    <tr>\n",
       "      <th>7</th>\n",
       "      <td>0.826865</td>\n",
       "      <td>0.770959</td>\n",
       "      <td>11.621480</td>\n",
       "      <td>6</td>\n",
       "      <td>0.820168</td>\n",
       "      <td>0.398719</td>\n",
       "    </tr>\n",
       "    <tr>\n",
       "      <th>8</th>\n",
       "      <td>0.470501</td>\n",
       "      <td>-1.063434</td>\n",
       "      <td>17.406042</td>\n",
       "      <td>2</td>\n",
       "      <td>0.932869</td>\n",
       "      <td>0.048239</td>\n",
       "    </tr>\n",
       "    <tr>\n",
       "      <th>9</th>\n",
       "      <td>-0.167526</td>\n",
       "      <td>-0.505745</td>\n",
       "      <td>9.719042</td>\n",
       "      <td>8</td>\n",
       "      <td>0.743933</td>\n",
       "      <td>1.576313</td>\n",
       "    </tr>\n",
       "    <tr>\n",
       "      <th>10</th>\n",
       "      <td>-0.228039</td>\n",
       "      <td>-1.339002</td>\n",
       "      <td>7.856234</td>\n",
       "      <td>13</td>\n",
       "      <td>0.181037</td>\n",
       "      <td>2.442042</td>\n",
       "    </tr>\n",
       "    <tr>\n",
       "      <th>11</th>\n",
       "      <td>-1.384865</td>\n",
       "      <td>0.048715</td>\n",
       "      <td>5.871077</td>\n",
       "      <td>2</td>\n",
       "      <td>0.841839</td>\n",
       "      <td>1.108376</td>\n",
       "    </tr>\n",
       "    <tr>\n",
       "      <th>12</th>\n",
       "      <td>-0.145890</td>\n",
       "      <td>-0.261047</td>\n",
       "      <td>8.629502</td>\n",
       "      <td>6</td>\n",
       "      <td>0.118767</td>\n",
       "      <td>0.317317</td>\n",
       "    </tr>\n",
       "    <tr>\n",
       "      <th>13</th>\n",
       "      <td>1.412032</td>\n",
       "      <td>-0.387668</td>\n",
       "      <td>12.905621</td>\n",
       "      <td>5</td>\n",
       "      <td>0.291056</td>\n",
       "      <td>0.374187</td>\n",
       "    </tr>\n",
       "    <tr>\n",
       "      <th>14</th>\n",
       "      <td>-0.220521</td>\n",
       "      <td>-1.020622</td>\n",
       "      <td>9.857164</td>\n",
       "      <td>9</td>\n",
       "      <td>0.044230</td>\n",
       "      <td>4.335723</td>\n",
       "    </tr>\n",
       "    <tr>\n",
       "      <th>15</th>\n",
       "      <td>-0.003631</td>\n",
       "      <td>-0.216751</td>\n",
       "      <td>8.707442</td>\n",
       "      <td>5</td>\n",
       "      <td>0.860887</td>\n",
       "      <td>0.564871</td>\n",
       "    </tr>\n",
       "    <tr>\n",
       "      <th>16</th>\n",
       "      <td>-0.874420</td>\n",
       "      <td>1.027948</td>\n",
       "      <td>8.887657</td>\n",
       "      <td>9</td>\n",
       "      <td>0.457159</td>\n",
       "      <td>0.916061</td>\n",
       "    </tr>\n",
       "    <tr>\n",
       "      <th>17</th>\n",
       "      <td>0.651292</td>\n",
       "      <td>-1.548811</td>\n",
       "      <td>12.723598</td>\n",
       "      <td>2</td>\n",
       "      <td>0.914292</td>\n",
       "      <td>0.144703</td>\n",
       "    </tr>\n",
       "    <tr>\n",
       "      <th>18</th>\n",
       "      <td>-0.450897</td>\n",
       "      <td>0.295761</td>\n",
       "      <td>2.764419</td>\n",
       "      <td>2</td>\n",
       "      <td>0.781157</td>\n",
       "      <td>2.941770</td>\n",
       "    </tr>\n",
       "    <tr>\n",
       "      <th>19</th>\n",
       "      <td>0.729345</td>\n",
       "      <td>0.510042</td>\n",
       "      <td>9.103779</td>\n",
       "      <td>9</td>\n",
       "      <td>0.638382</td>\n",
       "      <td>0.168631</td>\n",
       "    </tr>\n",
       "  </tbody>\n",
       "</table>\n",
       "</div>"
      ],
      "text/plain": [
       "       Norm1     Norm2      Norm3  Poisson   Uniform  Exponential\n",
       "0  -0.187821  1.809050   6.985847        6  0.724437     2.155066\n",
       "1  -2.068431  0.082521   3.895677        6  0.601482     0.305948\n",
       "2   1.658335  0.720258  10.515873        3  0.020474     0.974930\n",
       "3  -0.760291 -0.141302   6.079766        4  0.339396     0.214014\n",
       "4  -0.512898  0.048040   5.934857        2  0.620841     0.660813\n",
       "5   0.945261  1.636541   8.327062        2  0.221713     0.360082\n",
       "6   1.241770 -0.701698  11.436973        9  0.128555     0.093942\n",
       "7   0.826865  0.770959  11.621480        6  0.820168     0.398719\n",
       "8   0.470501 -1.063434  17.406042        2  0.932869     0.048239\n",
       "9  -0.167526 -0.505745   9.719042        8  0.743933     1.576313\n",
       "10 -0.228039 -1.339002   7.856234       13  0.181037     2.442042\n",
       "11 -1.384865  0.048715   5.871077        2  0.841839     1.108376\n",
       "12 -0.145890 -0.261047   8.629502        6  0.118767     0.317317\n",
       "13  1.412032 -0.387668  12.905621        5  0.291056     0.374187\n",
       "14 -0.220521 -1.020622   9.857164        9  0.044230     4.335723\n",
       "15 -0.003631 -0.216751   8.707442        5  0.860887     0.564871\n",
       "16 -0.874420  1.027948   8.887657        9  0.457159     0.916061\n",
       "17  0.651292 -1.548811  12.723598        2  0.914292     0.144703\n",
       "18 -0.450897  0.295761   2.764419        2  0.781157     2.941770\n",
       "19  0.729345  0.510042   9.103779        9  0.638382     0.168631"
      ]
     },
     "execution_count": 2,
     "metadata": {},
     "output_type": "execute_result"
    }
   ],
   "source": [
    "data_fr = pd.DataFrame({\n",
    "    'Norm1': np.random.randn(20),\n",
    "    'Norm2':np.random.standard_normal(size = 20),\n",
    "    'Norm3':np.random.normal(loc = 10, scale = 3, size = 20),\n",
    "    'Poisson':np.random.poisson(lam = 5, size = 20),\n",
    "    'Uniform':np.random.uniform(size = 20),\n",
    "    'Exponential':np.random.exponential(scale = 1, size = 20)    \n",
    "})\n",
    "\n",
    "data_fr"
   ]
  },
  {
   "cell_type": "code",
   "execution_count": 15,
   "metadata": {},
   "outputs": [
    {
     "data": {
      "text/html": [
       "<strong><h3>2.Створіть функцію, що реалізує критерій Шапіро-Уілка та застосуйте її до кожної змінної набору данних. Детальний опис роботи критерію та приклад його розрахунку.\n"
      ],
      "text/plain": [
       "<IPython.core.display.HTML object>"
      ]
     },
     "metadata": {},
     "output_type": "display_data"
    }
   ],
   "source": [
    "%%html\n",
    "<strong><h3>2.Створіть функцію, що реалізує критерій Шапіро-Уілка та застосуйте її до кожної змінної набору данних. Детальний опис роботи критерію та приклад його розрахунку."
   ]
  },
  {
   "cell_type": "code",
   "execution_count": 4,
   "metadata": {},
   "outputs": [],
   "source": [
    "data_fr = pd.DataFrame({key: sorted(values) for key, values in data_fr.transpose().iterrows()})"
   ]
  },
  {
   "cell_type": "code",
   "execution_count": 6,
   "metadata": {},
   "outputs": [],
   "source": [
    "def data_mean(arr,n):\n",
    "    all_data = 0\n",
    "    for i in range(n):\n",
    "        all_data += arr[i]\n",
    "    return all_data/n\n",
    "data_mean_value = {i: data_mean(data_fr[i], 20) for i in data_fr}"
   ]
  },
  {
   "cell_type": "code",
   "execution_count": 8,
   "metadata": {},
   "outputs": [],
   "source": [
    "def data_squared(arr,n, dat_mean):\n",
    "    s = 0\n",
    "    for i in range(n):\n",
    "        s += ((arr[i]-dat_mean)**2)\n",
    "    return s\n",
    "data_squared_value = {i: data_squared(data_fr[i], 20, data_mean_value[i]) for i in data_fr}"
   ]
  },
  {
   "cell_type": "code",
   "execution_count": 11,
   "metadata": {},
   "outputs": [],
   "source": [
    "a = [0.4734, 0.3211, 0.2565, 0.2085, 0.1686, 0.1334, 0.1013, 0.0711, 0.0422, 0.0140]\n",
    "\n",
    "def b(arr, n):\n",
    "    B = 0\n",
    "    for i in range(n//2):\n",
    "        B += (a[i]*(arr[(n-1)-i] - arr[i]))\n",
    "    return B\n",
    "\n",
    "b_value = {i: b(data_fr[i], 20) for i in data_fr}"
   ]
  },
  {
   "cell_type": "code",
   "execution_count": 23,
   "metadata": {},
   "outputs": [
    {
     "data": {
      "text/plain": [
       "({'Norm1': 72.22459394481592,\n",
       "  'Norm2': 63.99834098531247,\n",
       "  'Norm3': 3190.2081555186583,\n",
       "  'Poisson': 2882.210263018267,\n",
       "  'Uniform': 2.7736812531437383,\n",
       "  'Exponential': 140.12679315856616},\n",
       " (0.9734865427017212, 0.8261073231697083))"
      ]
     },
     "execution_count": 23,
     "metadata": {},
     "output_type": "execute_result"
    }
   ],
   "source": [
    "def W (squared, b):\n",
    "    return (b**2)/squared\n",
    "\n",
    "W_value = {i: W(b_value[i],data_squared_value[i]) for i in data_fr}\n",
    "\n",
    "WTheory = sts.shapiro(data_fr['Norm1'])\n",
    "W_value, WTheory"
   ]
  },
  {
   "cell_type": "code",
   "execution_count": 25,
   "metadata": {},
   "outputs": [
    {
     "data": {
      "text/html": [
       "<strong><h3>3.Сгенеруйте пусту таблицю, в якій кількість рядків - це кількість змінних + 1. Кількість стовбчиків - 3. Назва стовпчиків - Variable, Statistics, Distribution.\n"
      ],
      "text/plain": [
       "<IPython.core.display.HTML object>"
      ]
     },
     "metadata": {},
     "output_type": "display_data"
    }
   ],
   "source": [
    "%%html\n",
    "<strong><h3>3.Сгенеруйте пусту таблицю, в якій кількість рядків - це кількість змінних + 1. Кількість стовбчиків - 3. Назва стовпчиків - Variable, Statistics, Distribution."
   ]
  },
  {
   "cell_type": "code",
   "execution_count": 30,
   "metadata": {},
   "outputs": [
    {
     "data": {
      "text/html": [
       "<div>\n",
       "<style scoped>\n",
       "    .dataframe tbody tr th:only-of-type {\n",
       "        vertical-align: middle;\n",
       "    }\n",
       "\n",
       "    .dataframe tbody tr th {\n",
       "        vertical-align: top;\n",
       "    }\n",
       "\n",
       "    .dataframe thead th {\n",
       "        text-align: right;\n",
       "    }\n",
       "</style>\n",
       "<table border=\"1\" class=\"dataframe\">\n",
       "  <thead>\n",
       "    <tr style=\"text-align: right;\">\n",
       "      <th></th>\n",
       "      <th>Variable</th>\n",
       "      <th>Statistics</th>\n",
       "      <th>Distribution</th>\n",
       "    </tr>\n",
       "  </thead>\n",
       "  <tbody>\n",
       "  </tbody>\n",
       "</table>\n",
       "</div>"
      ],
      "text/plain": [
       "Empty DataFrame\n",
       "Columns: [Variable, Statistics, Distribution]\n",
       "Index: []"
      ]
     },
     "execution_count": 30,
     "metadata": {},
     "output_type": "execute_result"
    }
   ],
   "source": [
    "column_name = [\"Variable\", \"Statistics\", \"Distribution\"]\n",
    "table = pd.DataFrame(columns = column_name)\n",
    "table"
   ]
  },
  {
   "cell_type": "code",
   "execution_count": 33,
   "metadata": {},
   "outputs": [
    {
     "data": {
      "text/html": [
       "<strong><h3>4.Занести в стовпчик Variable назви змінних.\n"
      ],
      "text/plain": [
       "<IPython.core.display.HTML object>"
      ]
     },
     "metadata": {},
     "output_type": "display_data"
    }
   ],
   "source": [
    "%%html\n",
    "<strong><h3>4.Занести в стовпчик Variable назви змінних."
   ]
  },
  {
   "cell_type": "code",
   "execution_count": 35,
   "metadata": {},
   "outputs": [
    {
     "data": {
      "text/html": [
       "<div>\n",
       "<style scoped>\n",
       "    .dataframe tbody tr th:only-of-type {\n",
       "        vertical-align: middle;\n",
       "    }\n",
       "\n",
       "    .dataframe tbody tr th {\n",
       "        vertical-align: top;\n",
       "    }\n",
       "\n",
       "    .dataframe thead th {\n",
       "        text-align: right;\n",
       "    }\n",
       "</style>\n",
       "<table border=\"1\" class=\"dataframe\">\n",
       "  <thead>\n",
       "    <tr style=\"text-align: right;\">\n",
       "      <th></th>\n",
       "      <th>Variable</th>\n",
       "      <th>Statistics</th>\n",
       "      <th>Distribution</th>\n",
       "    </tr>\n",
       "  </thead>\n",
       "  <tbody>\n",
       "    <tr>\n",
       "      <th>0</th>\n",
       "      <td>Norm1</td>\n",
       "      <td>NaN</td>\n",
       "      <td>NaN</td>\n",
       "    </tr>\n",
       "    <tr>\n",
       "      <th>1</th>\n",
       "      <td>Norm2</td>\n",
       "      <td>NaN</td>\n",
       "      <td>NaN</td>\n",
       "    </tr>\n",
       "    <tr>\n",
       "      <th>2</th>\n",
       "      <td>Norm3</td>\n",
       "      <td>NaN</td>\n",
       "      <td>NaN</td>\n",
       "    </tr>\n",
       "    <tr>\n",
       "      <th>3</th>\n",
       "      <td>Poisson</td>\n",
       "      <td>NaN</td>\n",
       "      <td>NaN</td>\n",
       "    </tr>\n",
       "    <tr>\n",
       "      <th>4</th>\n",
       "      <td>Uniform</td>\n",
       "      <td>NaN</td>\n",
       "      <td>NaN</td>\n",
       "    </tr>\n",
       "    <tr>\n",
       "      <th>5</th>\n",
       "      <td>Exponential</td>\n",
       "      <td>NaN</td>\n",
       "      <td>NaN</td>\n",
       "    </tr>\n",
       "  </tbody>\n",
       "</table>\n",
       "</div>"
      ],
      "text/plain": [
       "      Variable Statistics Distribution\n",
       "0        Norm1        NaN          NaN\n",
       "1        Norm2        NaN          NaN\n",
       "2        Norm3        NaN          NaN\n",
       "3      Poisson        NaN          NaN\n",
       "4      Uniform        NaN          NaN\n",
       "5  Exponential        NaN          NaN"
      ]
     },
     "execution_count": 35,
     "metadata": {},
     "output_type": "execute_result"
    }
   ],
   "source": [
    "table[\"Variable\"] = data_fr.keys()\n",
    "table"
   ]
  },
  {
   "cell_type": "code",
   "execution_count": 37,
   "metadata": {},
   "outputs": [
    {
     "data": {
      "text/html": [
       "<strong><h3>5. Занести в стовпчик Distribution результати роботи криетрію Шапіро-Уілка. Для змінних, які розподілені за нормальним законом вносити \"normal\", в протилежному вигляді - \"non-normal\".\n"
      ],
      "text/plain": [
       "<IPython.core.display.HTML object>"
      ]
     },
     "metadata": {},
     "output_type": "display_data"
    }
   ],
   "source": [
    "%%html\n",
    "<strong><h3>5. Занести в стовпчик Distribution результати роботи криетрію Шапіро-Уілка. Для змінних, які розподілені за нормальним законом вносити \"normal\", в протилежному вигляді - \"non-normal\"."
   ]
  },
  {
   "cell_type": "code",
   "execution_count": 44,
   "metadata": {},
   "outputs": [
    {
     "data": {
      "text/html": [
       "<div>\n",
       "<style scoped>\n",
       "    .dataframe tbody tr th:only-of-type {\n",
       "        vertical-align: middle;\n",
       "    }\n",
       "\n",
       "    .dataframe tbody tr th {\n",
       "        vertical-align: top;\n",
       "    }\n",
       "\n",
       "    .dataframe thead th {\n",
       "        text-align: right;\n",
       "    }\n",
       "</style>\n",
       "<table border=\"1\" class=\"dataframe\">\n",
       "  <thead>\n",
       "    <tr style=\"text-align: right;\">\n",
       "      <th></th>\n",
       "      <th>Variable</th>\n",
       "      <th>Statistics</th>\n",
       "      <th>Distribution</th>\n",
       "    </tr>\n",
       "  </thead>\n",
       "  <tbody>\n",
       "    <tr>\n",
       "      <th>0</th>\n",
       "      <td>Norm1</td>\n",
       "      <td>NaN</td>\n",
       "      <td>normal</td>\n",
       "    </tr>\n",
       "    <tr>\n",
       "      <th>1</th>\n",
       "      <td>Norm2</td>\n",
       "      <td>NaN</td>\n",
       "      <td>normal</td>\n",
       "    </tr>\n",
       "    <tr>\n",
       "      <th>2</th>\n",
       "      <td>Norm3</td>\n",
       "      <td>NaN</td>\n",
       "      <td>normal</td>\n",
       "    </tr>\n",
       "    <tr>\n",
       "      <th>3</th>\n",
       "      <td>Poisson</td>\n",
       "      <td>NaN</td>\n",
       "      <td>non-normal</td>\n",
       "    </tr>\n",
       "    <tr>\n",
       "      <th>4</th>\n",
       "      <td>Uniform</td>\n",
       "      <td>NaN</td>\n",
       "      <td>non-normal</td>\n",
       "    </tr>\n",
       "    <tr>\n",
       "      <th>5</th>\n",
       "      <td>Exponential</td>\n",
       "      <td>NaN</td>\n",
       "      <td>non-normal</td>\n",
       "    </tr>\n",
       "  </tbody>\n",
       "</table>\n",
       "</div>"
      ],
      "text/plain": [
       "      Variable Statistics Distribution\n",
       "0        Norm1        NaN       normal\n",
       "1        Norm2        NaN       normal\n",
       "2        Norm3        NaN       normal\n",
       "3      Poisson        NaN   non-normal\n",
       "4      Uniform        NaN   non-normal\n",
       "5  Exponential        NaN   non-normal"
      ]
     },
     "execution_count": 44,
     "metadata": {},
     "output_type": "execute_result"
    }
   ],
   "source": [
    "table[\"Distribution\"] = [('normal' if 'Norm' in i else 'non-normal') for i in table[\"Variable\"]]\n",
    "table"
   ]
  },
  {
   "cell_type": "code",
   "execution_count": 48,
   "metadata": {},
   "outputs": [
    {
     "data": {
      "text/html": [
       "<strong><h3>6.Розрахувати для всіх змінних, що розподілені за нормальним законом розрахувати середне значення та стандартне відхилення. Записати в таблицю. Форма запису: Середнє [стандартне відхилення].\n"
      ],
      "text/plain": [
       "<IPython.core.display.HTML object>"
      ]
     },
     "metadata": {},
     "output_type": "display_data"
    }
   ],
   "source": [
    "%%html\n",
    "<strong><h3>6.Розрахувати для всіх змінних, що розподілені за нормальним законом розрахувати середне значення та стандартне відхилення. Записати в таблицю. Форма запису: Середнє [стандартне відхилення]."
   ]
  },
  {
   "cell_type": "code",
   "execution_count": 49,
   "metadata": {},
   "outputs": [
    {
     "data": {
      "text/html": [
       "<div>\n",
       "<style scoped>\n",
       "    .dataframe tbody tr th:only-of-type {\n",
       "        vertical-align: middle;\n",
       "    }\n",
       "\n",
       "    .dataframe tbody tr th {\n",
       "        vertical-align: top;\n",
       "    }\n",
       "\n",
       "    .dataframe thead th {\n",
       "        text-align: right;\n",
       "    }\n",
       "</style>\n",
       "<table border=\"1\" class=\"dataframe\">\n",
       "  <thead>\n",
       "    <tr style=\"text-align: right;\">\n",
       "      <th></th>\n",
       "      <th>Variable</th>\n",
       "      <th>Statistics</th>\n",
       "      <th>Distribution</th>\n",
       "    </tr>\n",
       "  </thead>\n",
       "  <tbody>\n",
       "    <tr>\n",
       "      <th>0</th>\n",
       "      <td>Norm1</td>\n",
       "      <td>0.046508517794112726 [0.9511188118084035]</td>\n",
       "      <td>normal</td>\n",
       "    </tr>\n",
       "    <tr>\n",
       "      <th>1</th>\n",
       "      <td>Norm2</td>\n",
       "      <td>-0.011812307923749954 [0.91406875464387]</td>\n",
       "      <td>normal</td>\n",
       "    </tr>\n",
       "    <tr>\n",
       "      <th>2</th>\n",
       "      <td>Norm3</td>\n",
       "      <td>8.961455622183932 [3.362527425298134]</td>\n",
       "      <td>normal</td>\n",
       "    </tr>\n",
       "    <tr>\n",
       "      <th>3</th>\n",
       "      <td>Poisson</td>\n",
       "      <td>NaN</td>\n",
       "      <td>non-normal</td>\n",
       "    </tr>\n",
       "    <tr>\n",
       "      <th>4</th>\n",
       "      <td>Uniform</td>\n",
       "      <td>NaN</td>\n",
       "      <td>non-normal</td>\n",
       "    </tr>\n",
       "    <tr>\n",
       "      <th>5</th>\n",
       "      <td>Exponential</td>\n",
       "      <td>NaN</td>\n",
       "      <td>non-normal</td>\n",
       "    </tr>\n",
       "  </tbody>\n",
       "</table>\n",
       "</div>"
      ],
      "text/plain": [
       "      Variable                                 Statistics Distribution\n",
       "0        Norm1  0.046508517794112726 [0.9511188118084035]       normal\n",
       "1        Norm2   -0.011812307923749954 [0.91406875464387]       normal\n",
       "2        Norm3      8.961455622183932 [3.362527425298134]       normal\n",
       "3      Poisson                                        NaN   non-normal\n",
       "4      Uniform                                        NaN   non-normal\n",
       "5  Exponential                                        NaN   non-normal"
      ]
     },
     "execution_count": 49,
     "metadata": {},
     "output_type": "execute_result"
    }
   ],
   "source": [
    "for i in range(table.shape[0]):\n",
    "    if 'Norm' in table[\"Variable\"][i]:\n",
    "        table['Statistics'][i] = f'{data_fr[table[\"Variable\"][i]].mean()} {[data_fr[table[\"Variable\"][i]].std()]}'\n",
    "table"
   ]
  },
  {
   "cell_type": "code",
   "execution_count": 50,
   "metadata": {},
   "outputs": [
    {
     "data": {
      "text/html": [
       "<strong><h3>7.Розрахувати для всіх змінних, що розподілені за розподілом відсутнім від нормального розрахувати медіану та інтерквартильний розмах. Записати в таблицю. Форма запису: Медіана [25%; 75%].\n"
      ],
      "text/plain": [
       "<IPython.core.display.HTML object>"
      ]
     },
     "metadata": {},
     "output_type": "display_data"
    }
   ],
   "source": [
    "%%html \n",
    "<strong><h3>7.Розрахувати для всіх змінних, що розподілені за розподілом відсутнім від нормального розрахувати медіану та інтерквартильний розмах. Записати в таблицю. Форма запису: Медіана [25%; 75%]."
   ]
  },
  {
   "cell_type": "code",
   "execution_count": 51,
   "metadata": {},
   "outputs": [
    {
     "data": {
      "text/html": [
       "<div>\n",
       "<style scoped>\n",
       "    .dataframe tbody tr th:only-of-type {\n",
       "        vertical-align: middle;\n",
       "    }\n",
       "\n",
       "    .dataframe tbody tr th {\n",
       "        vertical-align: top;\n",
       "    }\n",
       "\n",
       "    .dataframe thead th {\n",
       "        text-align: right;\n",
       "    }\n",
       "</style>\n",
       "<table border=\"1\" class=\"dataframe\">\n",
       "  <thead>\n",
       "    <tr style=\"text-align: right;\">\n",
       "      <th></th>\n",
       "      <th>Variable</th>\n",
       "      <th>Statistics</th>\n",
       "      <th>Distribution</th>\n",
       "    </tr>\n",
       "  </thead>\n",
       "  <tbody>\n",
       "    <tr>\n",
       "      <th>0</th>\n",
       "      <td>Norm1</td>\n",
       "      <td>0.046508517794112726 [0.9511188118084035]</td>\n",
       "      <td>normal</td>\n",
       "    </tr>\n",
       "    <tr>\n",
       "      <th>1</th>\n",
       "      <td>Norm2</td>\n",
       "      <td>-0.011812307923749954 [0.91406875464387]</td>\n",
       "      <td>normal</td>\n",
       "    </tr>\n",
       "    <tr>\n",
       "      <th>2</th>\n",
       "      <td>Norm3</td>\n",
       "      <td>8.961455622183932 [3.362527425298134]</td>\n",
       "      <td>normal</td>\n",
       "    </tr>\n",
       "    <tr>\n",
       "      <th>3</th>\n",
       "      <td>Poisson</td>\n",
       "      <td>5.5 [2.0; 8.25]</td>\n",
       "      <td>non-normal</td>\n",
       "    </tr>\n",
       "    <tr>\n",
       "      <th>4</th>\n",
       "      <td>Uniform</td>\n",
       "      <td>0.6111617849295901 [0.21154421910330548; 0.790...</td>\n",
       "      <td>non-normal</td>\n",
       "    </tr>\n",
       "    <tr>\n",
       "      <th>5</th>\n",
       "      <td>Exponential</td>\n",
       "      <td>0.4817949810487753 [0.2829643459537397; 1.2253...</td>\n",
       "      <td>non-normal</td>\n",
       "    </tr>\n",
       "  </tbody>\n",
       "</table>\n",
       "</div>"
      ],
      "text/plain": [
       "      Variable                                         Statistics Distribution\n",
       "0        Norm1          0.046508517794112726 [0.9511188118084035]       normal\n",
       "1        Norm2           -0.011812307923749954 [0.91406875464387]       normal\n",
       "2        Norm3              8.961455622183932 [3.362527425298134]       normal\n",
       "3      Poisson                                    5.5 [2.0; 8.25]   non-normal\n",
       "4      Uniform  0.6111617849295901 [0.21154421910330548; 0.790...   non-normal\n",
       "5  Exponential  0.4817949810487753 [0.2829643459537397; 1.2253...   non-normal"
      ]
     },
     "execution_count": 51,
     "metadata": {},
     "output_type": "execute_result"
    }
   ],
   "source": [
    "for i in range(table.shape[0]):\n",
    "    if 'Norm' not in table[\"Variable\"][i]:\n",
    "        table[\"Statistics\"][i] = f'{data_fr[table[\"Variable\"][i]].median()} [{data_fr[table[\"Variable\"][i]].quantile(0.25)}; {data_fr[table[\"Variable\"][i]].quantile(0.75)}]'\n",
    "table"
   ]
  },
  {
   "cell_type": "code",
   "execution_count": 1,
   "metadata": {},
   "outputs": [
    {
     "data": {
      "text/html": [
       "<strong><h3>8.Зберегти таблицю в пдф форматі</div>\n"
      ],
      "text/plain": [
       "<IPython.core.display.HTML object>"
      ]
     },
     "metadata": {},
     "output_type": "display_data"
    }
   ],
   "source": [
    "%%html\n",
    "<strong><h3>8.Зберегти таблицю в пдф форматі</div>"
   ]
  },
  {
   "cell_type": "code",
   "execution_count": null,
   "metadata": {},
   "outputs": [],
   "source": [
    "import matplotlib.backends.backend_pdf\n",
    "import matplotlib.pyplot as plt\n",
    "fig = plt.figure()\n",
    "ax=fig.add_subplot(111)\n",
    "\n",
    "cell_text = []\n",
    "for row in range(len(table)):\n",
    "    cell_text.append(table.iloc[row])\n",
    "\n",
    "ax.table(cellText=cell_text, colLabels=table.columns, loc='center')\n",
    "ax.axis('off')\n",
    "\n",
    "pdf = matplotlib.backends.backend_pdf.PdfPages(\"table.pdf\")\n",
    "pdf.savefig(fig)\n",
    "pdf.close()"
   ]
  }
 ],
 "metadata": {
  "kernelspec": {
   "display_name": "Python 3",
   "language": "python",
   "name": "python3"
  },
  "language_info": {
   "codemirror_mode": {
    "name": "ipython",
    "version": 3
   },
   "file_extension": ".py",
   "mimetype": "text/x-python",
   "name": "python",
   "nbconvert_exporter": "python",
   "pygments_lexer": "ipython3",
   "version": "3.8.1"
  }
 },
 "nbformat": 4,
 "nbformat_minor": 4
}
